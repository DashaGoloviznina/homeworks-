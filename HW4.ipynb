{
 "cells": [
  {
   "cell_type": "markdown",
   "metadata": {},
   "source": [
    "# ДЗ4"
   ]
  },
  {
   "cell_type": "markdown",
   "metadata": {},
   "source": [
    "## Задание №1"
   ]
  },
  {
   "cell_type": "markdown",
   "metadata": {},
   "source": [
    "### П. 1."
   ]
  },
  {
   "cell_type": "markdown",
   "metadata": {},
   "source": [
    "Очистите текст от пунктуации, приведите его к нижнему регистру, лемматизируйте и запишите в новый файл. "
   ]
  },
  {
   "cell_type": "code",
   "execution_count": 1,
   "metadata": {},
   "outputs": [],
   "source": [
    "with open('Harry_Potter_and_the_Sorcerers_Stone.txt', 'r', encoding='utf-8') as f: \n",
    "        text = f.read()\n",
    "\n",
    "text1 = text.lower()\n",
    "text2 = [word.strip(\"!\\\"#$%&'()*+,./:;<=>?@[\\]^_`{|}~„“«»†*—\\/-\") for word in text1.split()]         \n",
    "\n",
    "import nltk\n",
    "from nltk import WordNetLemmatizer\n",
    "\n",
    "i = []\n",
    "for word in text2:\n",
    "    wnl = WordNetLemmatizer()\n",
    "    lemma = wnl.lemmatize(word)\n",
    "    i.append(lemma)\n",
    "\n",
    "text3 = ' '.join(i)     \n",
    "\n",
    "with open('lemmas.txt', 'w', encoding='utf-8') as f:\n",
    "    f.write(text3)"
   ]
  },
  {
   "cell_type": "markdown",
   "metadata": {},
   "source": [
    "### П.2."
   ]
  },
  {
   "cell_type": "markdown",
   "metadata": {},
   "source": [
    "Проверьте, выполняется ли здесь закон Ципфа. Для этого постройте линейную диаграмму, где по оси Х будет ранг (порядковый номер) слова в отсортированном по убыванию частотном словаре, а по оси Y - относительная частота (абсолютная частота, разделенная на количество слов в тексте). Т.е. у самого частотного слова будет ранг 1, у второго по частоте -- 2 и т.д."
   ]
  },
  {
   "cell_type": "markdown",
   "metadata": {},
   "source": [
    "1) создаем словарь "
   ]
  },
  {
   "cell_type": "code",
   "execution_count": 2,
   "metadata": {},
   "outputs": [],
   "source": [
    "from collections import Counter \n",
    "\n",
    "s=Counter(text3.split())\n",
    "d = {}\n",
    "d1 = dict(s)\n",
    "for word, count in d1.items(): \n",
    "    q = count/len(text3.split()) # q - относительная частота\n",
    "    d[word] = q"
   ]
  },
  {
   "cell_type": "markdown",
   "metadata": {},
   "source": [
    "2) сортируем словарь"
   ]
  },
  {
   "cell_type": "code",
   "execution_count": 17,
   "metadata": {},
   "outputs": [],
   "source": [
    "sorted_counts = sorted(d.items(), key=lambda x: x[1], reverse=True)\n",
    "\n",
    "k = dict(sorted_counts)"
   ]
  },
  {
   "cell_type": "markdown",
   "metadata": {},
   "source": [
    "3) создаем график"
   ]
  },
  {
   "cell_type": "code",
   "execution_count": 10,
   "metadata": {},
   "outputs": [
    {
     "name": "stdout",
     "output_type": "stream",
     "text": [
      "6698\n"
     ]
    }
   ],
   "source": [
    "print(len(k)) # узнаем количество элементов в словаре для значений оси X"
   ]
  },
  {
   "cell_type": "code",
   "execution_count": 13,
   "metadata": {},
   "outputs": [
    {
     "data": {
      "image/png": "[encoded data removed]",
      "text/plain": [
       "<Figure size 432x288 with 1 Axes>"
      ]
     },
     "metadata": {
      "needs_background": "light"
     },
     "output_type": "display_data"
    }
   ],
   "source": [
    "b = k.values()\n",
    "i = list(b)\n",
    "\n",
    "import matplotlib\n",
    "import matplotlib.pyplot as plt\n",
    "\n",
    "z = [z for z in range(0,6698)]\n",
    "\n",
    "X = z\n",
    "Y = i\n",
    "\n",
    "plt.plot(X, Y) \n",
    "plt.show()"
   ]
  },
  {
   "cell_type": "markdown",
   "metadata": {},
   "source": [
    "Итог: закон Ципфа выполняется "
   ]
  },
  {
   "cell_type": "markdown",
   "metadata": {},
   "source": [
    "### П.3."
   ]
  },
  {
   "cell_type": "markdown",
   "metadata": {},
   "source": [
    "Очистите текст от стоп-слов."
   ]
  },
  {
   "cell_type": "code",
   "execution_count": 3,
   "metadata": {},
   "outputs": [],
   "source": [
    "from nltk.tokenize import word_tokenize\n",
    "a = word_tokenize(text3)\n",
    "\n",
    "from nltk.corpus import stopwords\n",
    "sw = stopwords.words('english')\n",
    "text5 = [w for w in a if w not in sw]"
   ]
  },
  {
   "cell_type": "markdown",
   "metadata": {},
   "source": [
    "Постройте barplot для 30 самых частотных слов. Эти слова должны быть по оси Х в виде подписей к делениям. Значениями по этой оси будет ряд чисел от 0 до 30."
   ]
  },
  {
   "cell_type": "markdown",
   "metadata": {},
   "source": [
    "1) создаем частотный словарь "
   ]
  },
  {
   "cell_type": "code",
   "execution_count": 4,
   "metadata": {},
   "outputs": [],
   "source": [
    "from collections import Counter \n",
    "\n",
    "o=Counter(text5)\n",
    "d = {}\n",
    "d1 = dict(o)\n",
    "for word, count in d1.items(): \n",
    "    q = count/len(text5) # q - относительная частота\n",
    "    d[word] = q\n",
    "\n",
    "sorted_counts = sorted(d.items(), key=lambda x: x[1], reverse=True)\n",
    "\n",
    "k = dict(sorted_counts)"
   ]
  },
  {
   "cell_type": "markdown",
   "metadata": {},
   "source": [
    "2) создаем barplot"
   ]
  },
  {
   "cell_type": "code",
   "execution_count": 6,
   "metadata": {},
   "outputs": [
    {
     "data": {
      "image/png": "[encoded data removed]",
      "text/plain": [
       "<Figure size 432x288 with 1 Axes>"
      ]
     },
     "metadata": {
      "needs_background": "light"
     },
     "output_type": "display_data"
    }
   ],
   "source": [
    "import matplotlib\n",
    "import matplotlib.pyplot as plt\n",
    "\n",
    "c = k.keys() \n",
    "u = list(c)\n",
    "h = u[0:30] # h - значения по оси x\n",
    "\n",
    "\n",
    "b = k.values()\n",
    "i = list(b)\n",
    "t = i[0:30] # t - значения по оси y\n",
    "\n",
    "X = h\n",
    "Y = t\n",
    "\n",
    "plt.bar(X, Y)\n",
    "plt.xticks(X, h, rotation=90)\n",
    "plt.show()\n"
   ]
  }
 ],
 "metadata": {
  "kernelspec": {
   "display_name": "Python 3",
   "language": "python",
   "name": "python3"
  },
  "language_info": {
   "codemirror_mode": {
    "name": "ipython",
    "version": 3
   },
   "file_extension": ".py",
   "mimetype": "text/x-python",
   "name": "python",
   "nbconvert_exporter": "python",
   "pygments_lexer": "ipython3",
   "version": "3.7.0"
  }
 },
 "nbformat": 4,
 "nbformat_minor": 2
}
