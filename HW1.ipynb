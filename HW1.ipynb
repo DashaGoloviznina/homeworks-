{
 "cells": [
  {
   "cell_type": "code",
   "execution_count": 3,
   "metadata": {},
   "outputs": [
    {
     "name": "stdout",
     "output_type": "stream",
     "text": [
      "  _~_     _~_     _~_     _~_   \n",
      " (o o)   (o o)   (o o)   (o o)  \n",
      " / V \\   / V \\   / V \\   / V \\  \n",
      "/( _ )\\ /( _ )\\ /( _ )\\ /( _ )\\ \n",
      " ^^ ^^   ^^ ^^   ^^ ^^   ^^ ^^  \n"
     ]
    }
   ],
   "source": [
    "n = 4 \n",
    "\n",
    "i = \"  _~_   \" * n \n",
    "print(i) \n",
    "v = \" (o o)  \" * n \n",
    "print(v) \n",
    "k = \" / V \\  \" * n \n",
    "print(k) \n",
    "t = \"/( _ )\\ \" * n \n",
    "print(t) \n",
    "l = \" ^^ ^^  \" * n \n",
    "print(l)"
   ]
  },
  {
   "cell_type": "code",
   "execution_count": 5,
   "metadata": {},
   "outputs": [
    {
     "name": "stdout",
     "output_type": "stream",
     "text": [
      "31\n",
      "7\n"
     ]
    }
   ],
   "source": [
    "sentence = \"A penny saved is a penny gained\"\n",
    "print(len(sentence))\n",
    "words = sentence.split()\n",
    "print(len(words))"
   ]
  },
  {
   "cell_type": "code",
   "execution_count": 6,
   "metadata": {},
   "outputs": [
    {
     "name": "stdout",
     "output_type": "stream",
     "text": [
      "e\n",
      "a\n",
      "The-o\n",
      "The-oprichnina-was-a-state-policy-of-Tsar-Iv\n",
      "Teorcnn-a--tt-oiyo-srIa\n",
      "h-pihiawsasaeplc-fTa-vn\n",
      "navI-rasT-fo-ycilop-etats-a-saw-aninhcirpo-ehT\n",
      "nv-aTf-clpeasaswaihip-h\n",
      "46\n"
     ]
    }
   ],
   "source": [
    "sentence2 = \"The-oprichnina-was-a-state-policy-of-Tsar-Ivan\"\n",
    "letters = list(sentence2)\n",
    "\n",
    "print(sentence2[2])\n",
    "print(sentence2[-2])\n",
    "print(sentence2[0:5])\n",
    "print(sentence2[0:-2])\n",
    "print(sentence2[0:46:2])\n",
    "print(sentence2[1:46:2])\n",
    "print(sentence2[::-1])\n",
    "print(sentence2[::-2])\n",
    "print(len(sentence2))"
   ]
  },
  {
   "cell_type": "code",
   "execution_count": 1,
   "metadata": {},
   "outputs": [
    {
     "name": "stdout",
     "output_type": "stream",
     "text": [
      "YES\n",
      "NO\n"
     ]
    }
   ],
   "source": [
    "word = \"DAAD\"\n",
    "\n",
    "if word[0:] == word[::-1]:\n",
    "    print(\"YES\")\n",
    "else:\n",
    "    print(\"NO\")\n",
    "    \n",
    "word = \"miracle\"\n",
    "\n",
    "if word[0:] == word[::-1]:\n",
    "    print(\"YES\")\n",
    "else:\n",
    "    print(\"NO\")   "
   ]
  },
  {
   "cell_type": "code",
   "execution_count": 1,
   "metadata": {},
   "outputs": [
    {
     "name": "stdout",
     "output_type": "stream",
     "text": [
      "Введите слово\n",
      "яблоко\n",
      "Слово яблоко добавлено\n"
     ]
    }
   ],
   "source": [
    "x = \"\"\"законы физики рядом с черной дырой уже не работают в том представлении в котором мы привыкли \n",
    "пространство время искривляется и все события протекают уже совсем по другому \n",
    "словно пылесос черная дыра поглощает все что находится около нее планеты астероиды свет и прочее \n",
    "ранее считалось что черная дыра ничего не излучает но как доказал стивен хокинг черная дыра излучает антивещество \n",
    "то есть поедает вещество и выделяет антивещество \n",
    "ранее думали что если кинуть в черную дыру человека то ему труба порвет на субатомы \n",
    "но как оказалось по некоторым уравнениям есть определенные траектории путешествия сквозь черную дыру чтоб чувствовать себя нормально \n",
    "правда не ясно что будет за ней другой мир или ничего \n",
    "область вокруг черной дыры которая интересна называется горизонтом событий \n",
    "если туда полететь не зная волшебное уравнение то будет конечно не очень \n",
    "наблюдатель будет видеть как космический корабль влетает в горизонт событий и крайне медленно потом отдаляется пока не застынет в центре\n",
    "у самого же космонавта дела будут идти совсем по другому \n",
    "искривленное пространство будет лепить из него как из пластилина различные формы пока наконец не разорвет все на субатомы \n",
    "но для внешнего наблюдателя космонавт навсегда останется улыбающимся и махающим в иллюминатор застывшим изображением\"\"\"\n",
    "\n",
    "vocabulary = x.split()\n",
    "\n",
    "word = input(\"Введите слово\\n\")\n",
    "if word not in vocabulary:\n",
    "    vocabulary.append(word)\n",
    "    print(\"Слово\", word, \"добавлено\")\n",
    "else:\n",
    "    y = vocabulary.count(word)\n",
    "    print(\"Слово\", word, \"встречается в тексте\", y, \"раз\")"
   ]
  }
 ],
 "metadata": {
  "kernelspec": {
   "display_name": "Python 3",
   "language": "python",
   "name": "python3"
  },
  "language_info": {
   "codemirror_mode": {
    "name": "ipython",
    "version": 3
   },
   "file_extension": ".py",
   "mimetype": "text/x-python",
   "name": "python",
   "nbconvert_exporter": "python",
   "pygments_lexer": "ipython3",
   "version": "3.7.0"
  }
 },
 "nbformat": 4,
 "nbformat_minor": 2
}
