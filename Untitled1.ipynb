{
 "cells": [
  {
   "cell_type": "code",
   "execution_count": 23,
   "metadata": {},
   "outputs": [
    {
     "ename": "ImportError",
     "evalue": "cannot import name 'pos_tag' from 'nltk.tokenize' (c:\\program files\\miniconda\\lib\\site-packages\\nltk\\tokenize\\__init__.py)",
     "output_type": "error",
     "traceback": [
      "\u001b[1;31m---------------------------------------------------------------------------\u001b[0m",
      "\u001b[1;31mImportError\u001b[0m                               Traceback (most recent call last)",
      "\u001b[1;32m<ipython-input-23-d56a4f90b092>\u001b[0m in \u001b[0;36m<module>\u001b[1;34m()\u001b[0m\n\u001b[0;32m      7\u001b[0m \u001b[1;33m\u001b[0m\u001b[0m\n\u001b[0;32m      8\u001b[0m \u001b[1;32mimport\u001b[0m \u001b[0mnltk\u001b[0m\u001b[1;33m\u001b[0m\u001b[0m\n\u001b[1;32m----> 9\u001b[1;33m \u001b[1;32mfrom\u001b[0m \u001b[0mnltk\u001b[0m\u001b[1;33m.\u001b[0m\u001b[0mtokenize\u001b[0m \u001b[1;32mimport\u001b[0m \u001b[0mword_tokenize\u001b[0m\u001b[1;33m,\u001b[0m \u001b[0mpos_tag\u001b[0m\u001b[1;33m\u001b[0m\u001b[0m\n\u001b[0m\u001b[0;32m     10\u001b[0m \u001b[1;32mfrom\u001b[0m \u001b[0mnltk\u001b[0m \u001b[1;32mimport\u001b[0m \u001b[0mWordNetLemmatizer\u001b[0m\u001b[1;33m\u001b[0m\u001b[0m\n\u001b[0;32m     11\u001b[0m \u001b[1;33m\u001b[0m\u001b[0m\n",
      "\u001b[1;31mImportError\u001b[0m: cannot import name 'pos_tag' from 'nltk.tokenize' (c:\\program files\\miniconda\\lib\\site-packages\\nltk\\tokenize\\__init__.py)"
     ]
    }
   ],
   "source": [
    "with open('Harry_Potter_and_the_Sorcerers_Stone.txt', 'r', encoding='utf-8') as f: \n",
    "        text = f.read()\n",
    "\n",
    "text1 = text.lower()\n",
    "text2 = [word.strip(\"!\\\"#$%&'()*+,./:;<=>?@[\\]^_`{|}~„“«»†*—\\/-\") for word in text1.split()]         \n",
    " \n",
    "\n",
    "import nltk\n",
    "from nltk.tokenize import word_tokenize\n",
    "from nltk import WordNetLemmatizer\n",
    "\n",
    "\n",
    "wnl = WordNetLemmatizer()\n",
    "\n",
    "i = []\n",
    "for word in text2:\n",
    "    lemma = wnl.lemmatize(word)\n",
    "    i.append(lemma)\n",
    "    \n",
    "print(i)\n",
    "    \n",
    "    \n",
    "with open('lemmas.txt', 'w', encoding='utf-8') as f:\n",
    "    f.write() \n"
   ]
  },
  {
   "cell_type": "code",
   "execution_count": null,
   "metadata": {},
   "outputs": [],
   "source": [
    "with open('Harry_Potter_and_the_Sorcerers_Stone.txt', 'r', encoding='utf-8') as f: \n",
    "        text = f.read()\n",
    "\n",
    "text1 = text.lower()\n",
    "text2 = [word.strip(\"!\\\"#$%&'()*+,./:;<=>?@[\\]^_`{|}~„“«»†*—\\/-\") for word in text1.split()]         \n",
    "text3 = ' '.join(text2) \n",
    "\n",
    "\n",
    "from nltk.tokenize import word_tokenize\n",
    "import nltk\n",
    "from nltk import WordNetLemmatizer\n",
    "t4 = word_tokenize(text3)\n",
    "\n",
    "for c in t4:\n",
    "    wnl = WordNetLemmatizer()\n",
    "    lemmas = wnl.lemmatize(t4)\n",
    "lemmas1 = ''.join(lemmas) \n",
    "\n",
    "with open('lemmas.txt', 'w', encoding='utf-8') as f:\n",
    "    f.write(lemmas1)"
   ]
  }
 ],
 "metadata": {
  "kernelspec": {
   "display_name": "Python 3",
   "language": "python",
   "name": "python3"
  },
  "language_info": {
   "codemirror_mode": {
    "name": "ipython",
    "version": 3
   },
   "file_extension": ".py",
   "mimetype": "text/x-python",
   "name": "python",
   "nbconvert_exporter": "python",
   "pygments_lexer": "ipython3",
   "version": "3.7.0"
  }
 },
 "nbformat": 4,
 "nbformat_minor": 2
}
